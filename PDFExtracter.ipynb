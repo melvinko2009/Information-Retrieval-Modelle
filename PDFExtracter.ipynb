{
 "cells": [
  {
   "cell_type": "code",
   "execution_count": 1,
   "metadata": {},
   "outputs": [
    {
     "name": "stderr",
     "output_type": "stream",
     "text": [
      "C:\\Users\\Melvin\\anaconda3\\lib\\site-packages\\numpy\\_distributor_init.py:30: UserWarning: loaded more than 1 DLL from .libs:\n",
      "C:\\Users\\Melvin\\anaconda3\\lib\\site-packages\\numpy\\.libs\\libopenblas.QVLO2T66WEPI7JZ63PS3HMOHFEY472BC.gfortran-win_amd64.dll\n",
      "C:\\Users\\Melvin\\anaconda3\\lib\\site-packages\\numpy\\.libs\\libopenblas.WCDJNK7YVMPZQ2ME2ZZHJJRJ3JIKNDB7.gfortran-win_amd64.dll\n",
      "  warnings.warn(\"loaded more than 1 DLL from .libs:\"\n"
     ]
    }
   ],
   "source": [
    "from tika import parser\n",
    "import os\n",
    "import minecart\n",
    "import warnings\n",
    "import json\n",
    "import pytesseract\n",
    "from nltk.tokenize import  word_tokenize\n",
    "import re\n",
    "pytesseract.pytesseract.tesseract_cmd = r'C:\\Program Files\\Tesseract-OCR\\tesseract.exe'"
   ]
  },
  {
   "cell_type": "code",
   "execution_count": 2,
   "metadata": {
    "pycharm": {
     "name": "#%%\n"
    }
   },
   "outputs": [],
   "source": [
    "#Globale Variablen definieren\n",
    "directory = 'Betriebsvereinbarungen'\n",
    "\n",
    "# Dictionary mit ID,Inhalt und ID, Dokumentenname\n",
    "pdfs, lookupTable = dict(), dict()\n",
    "\n",
    "#Dateien mit gescanntem Inhalt\n",
    "badFiles = []"
   ]
  },
  {
   "cell_type": "code",
   "execution_count": 3,
   "metadata": {},
   "outputs": [],
   "source": [
    "#Text und Metadaten der PDFs extrahieren \n",
    "index = 0\n",
    "for filename in os.listdir(directory):\n",
    "        lookupTable[index] = filename\n",
    "        pdfs[filename] = parser.from_file(os.path.join(directoryG, filename))\n",
    "        pdfs[filename]['ID'] = index\n",
    "        index+=1"
   ]
  },
  {
   "cell_type": "code",
   "execution_count": 6,
   "metadata": {
    "scrolled": false
   },
   "outputs": [
    {
     "name": "stderr",
     "output_type": "stream",
     "text": [
      "WARNING:root:Cannot locate objid=72\n",
      "WARNING:root:Cannot locate objid=31\n"
     ]
    }
   ],
   "source": [
    "#Die Bilder der gescannten Dokumente extrahieren und OCR Software verwenden\n",
    "for filename in badFiles:\n",
    "    pdf = minecart.Document(open(os.path.join(directoryG, filename), 'rb'))\n",
    "    #Durch alle Seiten iterieren\n",
    "    text = ''\n",
    "    for page in pdf.iter_pages():\n",
    "        im = page.images[0].as_pil()  \n",
    "        text+= pytesseract.image_to_string(im,lang='deu')\n",
    "    pdfs[filename]['content'] = text  "
   ]
  },
  {
   "cell_type": "code",
   "execution_count": 7,
   "metadata": {},
   "outputs": [],
   "source": [
    "# Text aufbereiten\n",
    "data = dict()\n",
    "for key, value in pdfs.items():\n",
    "    temp = {'title': key,'content': value['content']}\n",
    "    data[pdfs[key]['ID']] = temp"
   ]
  },
  {
   "cell_type": "code",
   "execution_count": 4,
   "metadata": {},
   "outputs": [],
   "source": [
    "#Extarhierte Daten speichern\n",
    "with open('Data/Data.json', 'w',encoding='utf-8') as fp:\n",
    "    json.dump(data, fp,  indent=4,ensure_ascii=False)\n",
    "    \n",
    "with open('Data/FileIndex.json', 'w',encoding='utf-8') as fp:\n",
    "    json.dump(lookupTable, fp,  indent=4,ensure_ascii=False)"
   ]
  },
  {
   "cell_type": "code",
   "execution_count": 2,
   "metadata": {},
   "outputs": [],
   "source": [
    "# Vokabular für Rechtschreibkorrektur aufbauen\n",
    "vocab = dict()"
   ]
  },
  {
   "cell_type": "code",
   "execution_count": null,
   "metadata": {},
   "outputs": [],
   "source": [
    "# Methode zur Bereinigung der Daten\n",
    "def cleanData(text):\n",
    "    text = text.lower()\n",
    "    text = re.sub(r\"\\s+[a-zA-Z]\\s+\", ' ', text)\n",
    "    text = re.sub(r'\\s+', ' ', text)\n",
    "    text = re.sub('[^a-zA-ZäöüÄÖÜß]', ' ', text)\n",
    "    return text"
   ]
  },
  {
   "cell_type": "code",
   "execution_count": null,
   "metadata": {},
   "outputs": [],
   "source": [
    "#Die Daten und Testanfragen laden\n",
    "with open(\"Data/Data.json\",encoding='utf-8') as file:\n",
    "    data = json.load(file)\n",
    "\n",
    "with open(\"Data/Queries.json\",encoding='utf-8') as file:\n",
    "    queries = json.load(file)"
   ]
  },
  {
   "cell_type": "code",
   "execution_count": null,
   "metadata": {},
   "outputs": [],
   "source": [
    "# Vokabular anhand des Dokumentenkorpus mit Frequenz aufbauen\n",
    "for key,value in data.items():\n",
    "    text = cleanData(value['content'])\n",
    "    text = word_tokenize(text.lower(), language='german')\n",
    "    for token in text:\n",
    "        if len(token) != 0:\n",
    "            if token[0] in vocab:\n",
    "                if token in vocab[token[0]]:\n",
    "                    vocab[token[0]][token] += 1\n",
    "                else:\n",
    "                    vocab[token[0]][token] = 1\n",
    "            else:\n",
    "                newDict = {token : 1}\n",
    "                vocab[token[0]] = newDict"
   ]
  },
  {
   "cell_type": "code",
   "execution_count": null,
   "metadata": {},
   "outputs": [],
   "source": [
    "# Vokabular um Terme in Anfragen anreichern\n",
    "for q in queries:\n",
    "    text = cleanData(q[0])\n",
    "    text = word_tokenize(text.lower(), language='german')\n",
    "    for token in text:\n",
    "        if len(token) != 0:\n",
    "            if token[0] in vocab:\n",
    "                if token in vocab[token[0]]:\n",
    "                    vocab[token[0]][token] += 1\n",
    "                else:\n",
    "                    vocab[token[0]][token] = 1\n",
    "            else:\n",
    "                newDict = {token : 1}\n",
    "                vocab[token[0]] = newDict     "
   ]
  },
  {
   "cell_type": "code",
   "execution_count": null,
   "metadata": {},
   "outputs": [],
   "source": [
    "# Vokabular abspeichern\n",
    "with open('Data/Vocab.json', 'w',encoding='utf-8') as fp:\n",
    "    json.dump(vocab, fp,  indent=4, ensure_ascii=False)"
   ]
  },
  {
   "cell_type": "code",
   "execution_count": null,
   "metadata": {},
   "outputs": [],
   "source": []
  }
 ],
 "metadata": {
  "kernelspec": {
   "display_name": "Python 3 (ipykernel)",
   "language": "python",
   "name": "python3"
  },
  "language_info": {
   "codemirror_mode": {
    "name": "ipython",
    "version": 3
   },
   "file_extension": ".py",
   "mimetype": "text/x-python",
   "name": "python",
   "nbconvert_exporter": "python",
   "pygments_lexer": "ipython3",
   "version": "3.8.11"
  }
 },
 "nbformat": 4,
 "nbformat_minor": 4
}
