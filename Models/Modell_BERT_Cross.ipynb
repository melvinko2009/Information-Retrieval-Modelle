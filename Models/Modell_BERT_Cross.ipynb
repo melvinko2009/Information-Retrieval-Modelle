{
 "cells": [
  {
   "cell_type": "code",
   "execution_count": 12,
   "id": "f9f71b6b",
   "metadata": {},
   "outputs": [],
   "source": [
    "import json\n",
    "import re\n",
    "import spacy\n",
    "import operator\n",
    "import numpy as np\n",
    "from nltk.corpus import stopwords\n",
    "from nltk.tokenize import sent_tokenize, word_tokenize\n",
    "from scipy.stats import pearsonr, entropy\n",
    "from sentence_transformers.cross_encoder import CrossEncoder\n",
    "import datetime \n",
    "from itertools import product"
   ]
  },
  {
   "cell_type": "code",
   "execution_count": 13,
   "id": "ffb1e00f",
   "metadata": {
    "scrolled": false
   },
   "outputs": [],
   "source": [
    "#Die Daten, Testanfragen und Modelle laden\n",
    "with open(\"../Data/Data.json\",encoding='utf-8') as file:\n",
    "    data = json.load(file)\n",
    "\n",
    "with open(\"../Data/Queries.json\",encoding='utf-8') as file:\n",
    "    queries = json.load(file)\n",
    "\n",
    "#Deutsche Stopwörter und Lemmatizer laden\n",
    "german_stopwords = stopwords.words('german')\n",
    "lemmatizer = spacy.load('de_core_news_sm')\n",
    "\n",
    "#Vorhersagen abspeichern\n",
    "predictions = dict()"
   ]
  },
  {
   "cell_type": "code",
   "execution_count": 14,
   "id": "7c8f5885",
   "metadata": {
    "scrolled": true
   },
   "outputs": [],
   "source": [
    "# Cross-Encoder-Modell laden\n",
    "bert_model = CrossEncoder(\"svalabs/cross-electra-ms-marco-german-uncased\")"
   ]
  },
  {
   "cell_type": "code",
   "execution_count": 15,
   "id": "1160b2c5",
   "metadata": {},
   "outputs": [],
   "source": [
    "def preprocessing(text):\n",
    "    \n",
    "    #Kleinbuchstaben & einzelne Zeichen entfernen & mehrere Leerzeichen entfernen\n",
    "    text = text.lower()\n",
    "    text = re.sub(r\"\\s+[a-zA-Z]\\s+\", ' ', text)\n",
    "    text = re.sub(r'\\s+', ' ', text)\n",
    "    \n",
    "    text = sent_tokenize(text, language='german')\n",
    "    for i in range(0,len(text)):\n",
    "        sentence = text[i]\n",
    "            \n",
    "        # Punkte und Zahlen entfernen\n",
    "        sentence = re.sub('[^a-zA-ZäöüÄÖÜß]', ' ', sentence)\n",
    "        \n",
    "        text[i] = sentence\n",
    "    return text\n",
    "\n",
    "#Data Cleaning\n",
    "def cleanData(text):\n",
    "    # Kleinbuchstaben\n",
    "    text = text.lower()\n",
    "    \n",
    "    # Einzelne Zeichen entfernen\n",
    "    text = re.sub(r\"\\s+[a-zA-Z]\\s+\", ' ', text)\n",
    "    \n",
    "    # Mehrere Leerzeichen entfernen\n",
    "    text = re.sub(r'\\s+', ' ', text)\n",
    "    \n",
    "    # Punkte und Zahlen entfernen\n",
    "    text = re.sub('[^a-zA-ZäöüÄÖÜß]', ' ', text)\n",
    "    return text\n",
    "\n",
    "#Stopword Removal\n",
    "def removeStopwords(text):\n",
    "    return ' '.join([word for word in text.split() if word not in german_stopwords])\n",
    "\n",
    "#Lemmatization\n",
    "def lemmatize(text):\n",
    "    doc = lemmatizer(text)\n",
    "    return ' '.join([x.lemma_ for x in doc]) "
   ]
  },
  {
   "cell_type": "code",
   "execution_count": 16,
   "id": "33115d46",
   "metadata": {},
   "outputs": [],
   "source": [
    "#Daten bereinigen\n",
    "preprocessedData = dict()\n",
    "for key,value in data.items():\n",
    "    preprocessedData[key] = preprocessing(value['content'])"
   ]
  },
  {
   "cell_type": "code",
   "execution_count": 17,
   "id": "db03a777",
   "metadata": {},
   "outputs": [],
   "source": [
    "# Voraussage anhand des German Uncased Electra Cross-Encoder-Modells\n",
    "def get_BERT_Prediction(query):\n",
    "    queryList = [query]\n",
    "    bertScores = dict()\n",
    "    # Durch jedes Dokument iterieren\n",
    "    for docID, text in preprocessedData.items():\n",
    "        scores = []\n",
    "        \n",
    "        # Kreuzprodukt aus Anfrage und allen Sätzen für aktuelles Dokument bestimmen\n",
    "        combs = list(product(queryList, text))\n",
    "        prediction = bert_model.predict(combs).reshape((len(queryList), len(text)))\n",
    "        \n",
    "        # Durchschnitt aus den besten fünf Sätzen bilden\n",
    "        bertScores[docID] = np.mean(sorted(prediction[0],reverse=True)[:5])\n",
    "    return dict(sorted(bertScores.items(), key=operator.itemgetter(1),reverse=True))"
   ]
  },
  {
   "cell_type": "code",
   "execution_count": 18,
   "id": "4a3a91bf",
   "metadata": {},
   "outputs": [],
   "source": [
    "#Evalierungsmetriken\n",
    "\n",
    "#Precision@k\n",
    "def precision(predicted, truth, k):\n",
    "    summe,count = 0, 0\n",
    "    for i in range(0,k+1):\n",
    "        if int(predicted[i]) in truth:\n",
    "            count+=1\n",
    "    summe+= count/ (i+1)\n",
    "    return summe\n",
    "\n",
    "#AP\n",
    "def average_precision(predicted,relevant,query):\n",
    "    averageSum = 0\n",
    "    scores = dict()\n",
    "    for i in range(0,len(predicted)):\n",
    "        summe = 0  \n",
    "        if int(predicted[i]) in relevant:\n",
    "            summe+= precision(predicted, relevant, i)\n",
    "        averageSum += summe/len(relevant)\n",
    "    scores['MAP'] = averageSum\n",
    "    predictions[query] = scores\n",
    "    return averageSum\n",
    "\n",
    "#MAP\n",
    "def mean_average_precision(predicted,relevant):\n",
    "    summe = 0\n",
    "    for i in range(0,len(predicted)):\n",
    "        summe += average_precision(predicted[i],relevant[i],queries[i][0])\n",
    "    return summe/len(queries)\n",
    "\n",
    "#RR\n",
    "def reciprocal_rank(predicted,relevant, query):\n",
    "    for i in range(0, len(predicted)):\n",
    "        if int(predicted[i]) in relevant:\n",
    "            return 1/(i+1)\n",
    "    return 0\n",
    "\n",
    "#MRR\n",
    "def mean_reciprocal_rank(predicted,relevant):\n",
    "    summe = 0\n",
    "    for i in range(0,len(predicted)):\n",
    "        rec_rank = reciprocal_rank(predicted[i],relevant[i] ,queries[i][0])\n",
    "        summe += rec_rank\n",
    "        predictions[queries[i][0]]['MRR'] = rec_rank\n",
    "    return summe/len(predicted)\n",
    "\n",
    "def calculateMetrics(predictFunction,queries):\n",
    "    predicted = []\n",
    "    relevant = []\n",
    "    for q in queries:\n",
    "        predicted.append(list(predictFunction(q[0]).keys()))\n",
    "        relevant.append(q[1])\n",
    "    mean_average_p = mean_average_precision(predicted, relevant)\n",
    "    mean_reciprocal_r = mean_reciprocal_rank(predicted, relevant)\n",
    "    return mean_average_p, mean_reciprocal_r"
   ]
  },
  {
   "cell_type": "code",
   "execution_count": 19,
   "id": "2e2b930b",
   "metadata": {
    "scrolled": true
   },
   "outputs": [
    {
     "name": "stdout",
     "output_type": "stream",
     "text": [
      "BERT | MAP: 0.6782642637877896, MRR: 0.7087057844895998, Anfragebearbeitung: 1:04:48.077520\n"
     ]
    }
   ],
   "source": [
    "def evaluate():\n",
    "    a = datetime.datetime.now()\n",
    "    mean_av_pr, mean_re_r = calculateMetrics(get_BERT_Prediction,queries)\n",
    "    b = datetime.datetime.now()\n",
    "    print(f'BERT | MAP: {str(mean_av_pr)}, MRR: {str(mean_re_r)}, Anfragebearbeitung: {b-a}')\n",
    "evaluate()"
   ]
  },
  {
   "cell_type": "code",
   "execution_count": 15,
   "id": "7c0d0758",
   "metadata": {},
   "outputs": [],
   "source": [
    "#Predictions abspeichern\n",
    "with open('../Data/Visualization/BM25ScoreDistribution.json', 'w',encoding='utf-8') as fp:\n",
    "    json.dump(scoreDistribution, fp,  indent=4, ensure_ascii=False)\n",
    "    def calculateQuantile():\n",
    "    scoresDistribution = {'Relevant': [],\n",
    "                         'Non-Relevant': []}\n",
    "    for q in queries:\n",
    "        prediction, relevant = get_BERT_Prediction(q[0]), q[1]\n",
    "        for docID, score in prediction.items():\n",
    "            if int(docID) in relevant:\n",
    "                scoresDistribution['Relevant'].append(np.float64(score))\n",
    "            else:\n",
    "                scoresDistribution['Non-Relevant'].append(np.float64(score))\n",
    "    return scoresDistribution\n",
    "scoreDistribution = calculateQuantile()\n",
    "\n",
    "#Distribution abspeichern\n",
    "#with open('../Data/Visualization/BERTScoreDistribution.json', 'w',encoding='utf-8') as fp:\n",
    "#    json.dump(scoreDistribution, fp,  indent=4, ensure_ascii=False)"
   ]
  },
  {
   "cell_type": "code",
   "execution_count": 12,
   "id": "6b762ecb",
   "metadata": {},
   "outputs": [],
   "source": [
    "#AllPredictions laden\n",
    "with open(\"../Data/Visualization/Predictions.json\",encoding='utf-8') as file:\n",
    "    allPredictions = json.load(file)\n",
    "\n",
    "for query, scores in allPredictions.items():\n",
    "    scores['BERT Cross'] = predictions[query]\n",
    "\n",
    "#Predictions abspeichern\n",
    "with open('../Data/Visualization/Predictions.json', 'w',encoding='utf-8') as fp:\n",
    "    json.dump(allPredictions, fp,  indent=4, ensure_ascii=False)"
   ]
  },
  {
   "cell_type": "code",
   "execution_count": null,
   "id": "de76083b",
   "metadata": {},
   "outputs": [],
   "source": []
  }
 ],
 "metadata": {
  "kernelspec": {
   "display_name": "Python 3 (ipykernel)",
   "language": "python",
   "name": "python3"
  },
  "language_info": {
   "codemirror_mode": {
    "name": "ipython",
    "version": 3
   },
   "file_extension": ".py",
   "mimetype": "text/x-python",
   "name": "python",
   "nbconvert_exporter": "python",
   "pygments_lexer": "ipython3",
   "version": "3.8.11"
  }
 },
 "nbformat": 4,
 "nbformat_minor": 5
}
