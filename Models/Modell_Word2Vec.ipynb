{
 "cells": [
  {
   "cell_type": "code",
   "execution_count": 1,
   "metadata": {},
   "outputs": [
    {
     "name": "stderr",
     "output_type": "stream",
     "text": [
      "C:\\Users\\Melvin\\anaconda3\\lib\\site-packages\\numpy\\_distributor_init.py:30: UserWarning: loaded more than 1 DLL from .libs:\n",
      "C:\\Users\\Melvin\\anaconda3\\lib\\site-packages\\numpy\\.libs\\libopenblas.QVLO2T66WEPI7JZ63PS3HMOHFEY472BC.gfortran-win_amd64.dll\n",
      "C:\\Users\\Melvin\\anaconda3\\lib\\site-packages\\numpy\\.libs\\libopenblas.WCDJNK7YVMPZQ2ME2ZZHJJRJ3JIKNDB7.gfortran-win_amd64.dll\n",
      "  warnings.warn(\"loaded more than 1 DLL from .libs:\"\n"
     ]
    }
   ],
   "source": [
    "import json\n",
    "import spacy\n",
    "import re\n",
    "from nltk.corpus import stopwords\n",
    "from nltk.tokenize import sent_tokenize, word_tokenize\n",
    "import numpy as np\n",
    "import operator\n",
    "import fasttext\n",
    "from scipy.stats import pearsonr\n",
    "from scipy.stats import entropy\n",
    "import datetime"
   ]
  },
  {
   "cell_type": "code",
   "execution_count": 2,
   "metadata": {},
   "outputs": [
    {
     "name": "stderr",
     "output_type": "stream",
     "text": [
      "Warning : `load_model` does not return WordVectorModel or SupervisedModel any more, but a `FastText` object which is very similar.\n"
     ]
    }
   ],
   "source": [
    "#Die Daten, Testanfragen und Modelle laden\n",
    "with open(\"../Data/Data.json\",encoding='utf-8') as file:\n",
    "    data = json.load(file)\n",
    "\n",
    "with open(\"../Data/Queries.json\",encoding='utf-8') as file:\n",
    "    queries = json.load(file)\n",
    "    \n",
    "#Deutsche Stopwörter und Lemmatizer laden\n",
    "german_stopwords = stopwords.words('german')\n",
    "lemmatizer = spacy.load('de_core_news_sm')\n",
    "\n",
    "#Word2Vec Model laden\n",
    "w2vModel = fasttext.load_model('../Data/Word2Vec/cc.de.300.bin')\n",
    "w2vvocab = w2vModel.get_words()\n",
    "\n",
    "#Satz- oder Wortbasiertes Vorgehen\n",
    "sentence_wise = True\n",
    "\n",
    "#Vorhersagen abspeichern\n",
    "predictions = dict()"
   ]
  },
  {
   "cell_type": "code",
   "execution_count": 3,
   "metadata": {},
   "outputs": [],
   "source": [
    "# Preprocessing der PDF-Texte\n",
    "def preprocessing(text):\n",
    "    \n",
    "    #Kleinbuchstaben & einzelne Zeichen entfernen & mehrere Leerzeichen entfernen\n",
    "    text = text.lower()\n",
    "    text = re.sub(r\"\\s+[a-zA-Z]\\s+\", ' ', text)\n",
    "    text = re.sub(r'\\s+', ' ', text)\n",
    "    \n",
    "    #Satzbasierter Tokenizer\n",
    "    if sentence_wise:\n",
    "        text = sent_tokenize(text, language='german')\n",
    "        for i in range(0,len(text)):\n",
    "            sentence = text[i]\n",
    "            \n",
    "            # Punkte und Zahlen entfernen\n",
    "            sentence = re.sub('[^a-zA-ZäöüÄÖÜß]', ' ', sentence)\n",
    "\n",
    "            #Stopwörter entfernen und Lemmas erzuegen\n",
    "            sentence = removeStopwords(sentence)\n",
    "            sentence = lemmatize(sentence)\n",
    "            text[i] = word_tokenize(sentence, language='german')\n",
    "            \n",
    "    #Wortbasierter Tokenizer\n",
    "    else:\n",
    "        # Punkte und Zahlen entfernen\n",
    "        text = re.sub('[^a-zA-ZäöüÄÖÜß]', ' ', text)\n",
    "        \n",
    "        #Stopwörter entfernen und Lemmas erzuegen\n",
    "        text = removeStopwords(text)\n",
    "        text = lemmatize(text)\n",
    "        text = word_tokenize(text, language='german')\n",
    "\n",
    "    return text\n",
    "\n",
    "#Data Cleaning\n",
    "def cleanData(text):\n",
    "    # Kleinbuchstaben\n",
    "    text = text.lower()\n",
    "    \n",
    "    # Einzelne Zeichen entfernen\n",
    "    text = re.sub(r\"\\s+[a-zA-Z]\\s+\", ' ', text)\n",
    "    \n",
    "    # Mehrere Leerzeichen entfernen\n",
    "    text = re.sub(r'\\s+', ' ', text)\n",
    "    \n",
    "    # Punkte und Zahlen entfernen\n",
    "    text = re.sub('[^a-zA-ZäöüÄÖÜß]', ' ', text)\n",
    "    return text\n",
    "\n",
    "#Stopword Removal\n",
    "def removeStopwords(text):\n",
    "    return ' '.join([word for word in text.split() if word not in german_stopwords])\n",
    "\n",
    "#Lemmatize\n",
    "def lemmatize(text):\n",
    "    doc = lemmatizer(text)\n",
    "    return ' '.join([x.lemma_ for x in doc]) "
   ]
  },
  {
   "cell_type": "code",
   "execution_count": 4,
   "metadata": {},
   "outputs": [],
   "source": [
    "#Daten bereinigen\n",
    "preprocessedData = dict()\n",
    "for key,value in data.items():\n",
    "    preprocessedData[key] = preprocessing(value['content'])"
   ]
  },
  {
   "cell_type": "code",
   "execution_count": 5,
   "metadata": {},
   "outputs": [],
   "source": [
    "# Ähnlichkeitsmetriken\n",
    "def cosineSimilarity(vector1, vector2):\n",
    "    return np.dot(vector1,vector2) / (np.linalg.norm(vector1) * np.linalg.norm(vector2))\n",
    "\n",
    "def pearsonSimilarity(vector1, vector):\n",
    "    return pearsonr(vector1, vector)[0]\n",
    "\n",
    "def euclideanDistance(vector1, vector2):\n",
    "    return np.linalg.norm(vector1-vector2)\n",
    "\n",
    "def klDivergence(vector1, vector2):\n",
    "    minVal = min(np.min(vector1),np.min(vector2))\n",
    "    maxVal = max(np.max(vector1),np.max(vector2))\n",
    "    v1normalized = (vector1-minVal)/(maxVal-minVal)\n",
    "    v2normalized = (vector2-minVal)/(maxVal-minVal)\n",
    "    v1normalized = [i if i > 0.0001 else 0.0001 for i in v1normalized]\n",
    "    v2normalized = [i if i > 0.0001 else 0.0001 for i in v2normalized]\n",
    "    return entropy(v1normalized,v2normalized)"
   ]
  },
  {
   "cell_type": "code",
   "execution_count": 6,
   "metadata": {},
   "outputs": [],
   "source": [
    "#Methoden für VectorSpaceModel\n",
    "\n",
    "# Vektorrepräsentation für einen Text anhand einfach Summation und Durchschnittsbildung\n",
    "def get_average_embedding(text):\n",
    "    embedding = []\n",
    "    for token in text:\n",
    "        embedding.append(w2vModel.get_word_vector(token))\n",
    "    return np.mean(embedding, axis=0)\n",
    "\n",
    "# Voraussage anhand des Word2Vec Modells\n",
    "def get_w2v_Prediction(query):\n",
    "    # Vorverarbeitung der Anfrage\n",
    "    query= cleanData(query)\n",
    "    query = removeStopwords(query)\n",
    "    query = lemmatize(query)\n",
    "    query = word_tokenize(query, language='german')\n",
    "    queryVector = get_average_embedding(query)\n",
    "    \n",
    "    w2vScores = dict()\n",
    "    # Durch alle Dokumente iterieren und Kosinus-Ähnlichkeit berechnen\n",
    "    for i, vector in w2vDocs.items():\n",
    "        if sentence_wise:\n",
    "            scores = []\n",
    "            for sv in vector:\n",
    "                scores.append(cosineSimilarity(queryVector,sv))\n",
    "            w2vScores[i] = np.mean(sorted(scores,reverse=True)[:5])\n",
    "        else:\n",
    "            w2vScores[i] = cosineSimilarity(queryVector,vector)\n",
    "    return dict(sorted(w2vScores.items(), key=operator.itemgetter(1),reverse=True))"
   ]
  },
  {
   "cell_type": "code",
   "execution_count": 7,
   "metadata": {},
   "outputs": [],
   "source": [
    "#VectorSpace Model basierend auf Word2Vec\n",
    "w2vDocs = dict()\n",
    "\n",
    "#Dokumente in Vektoren umwandeln\n",
    "for key,text in preprocessedData.items():\n",
    "    if sentence_wise:\n",
    "        vectors = []\n",
    "        for sentence in text:\n",
    "            if len(sentence) != 0:\n",
    "                vectors.append(get_average_embedding(sentence))\n",
    "        w2vDocs[key] = vectors\n",
    "    else:\n",
    "        w2vDocs[key] = get_average_embedding(text)     "
   ]
  },
  {
   "cell_type": "code",
   "execution_count": 8,
   "metadata": {
    "pycharm": {
     "name": "#%%\n"
    }
   },
   "outputs": [],
   "source": [
    "#Evalierungsmetriken\n",
    "\n",
    "#Precision@k\n",
    "def precision(predicted, truth, k):\n",
    "    summe,count = 0, 0\n",
    "    for i in range(0,k+1):\n",
    "        if int(predicted[i]) in truth:\n",
    "            count+=1\n",
    "    summe+= count/ (i+1)\n",
    "    return summe\n",
    "\n",
    "#AP\n",
    "def average_precision(predicted,relevant,query):\n",
    "    averageSum = 0\n",
    "    scores = dict()\n",
    "    for i in range(0,len(predicted)):\n",
    "        summe = 0  \n",
    "        if int(predicted[i]) in relevant:\n",
    "            summe+= precision(predicted, relevant, i)\n",
    "        averageSum += summe/len(relevant)\n",
    "    scores['MAP'] = averageSum\n",
    "    predictions[query] = scores\n",
    "    return averageSum\n",
    "\n",
    "#MAP\n",
    "def mean_average_precision(predicted,relevant):\n",
    "    summe = 0\n",
    "    for i in range(0,len(predicted)):\n",
    "        summe += average_precision(predicted[i],relevant[i],queries[i][0])\n",
    "    return summe/len(queries)\n",
    "\n",
    "#RR\n",
    "def reciprocal_rank(predicted,relevant, query):\n",
    "    for i in range(0, len(predicted)):\n",
    "        if int(predicted[i]) in relevant:\n",
    "            return 1/(i+1)\n",
    "    return 0\n",
    "\n",
    "#MRR\n",
    "def mean_reciprocal_rank(predicted,relevant):\n",
    "    summe = 0\n",
    "    for i in range(0,len(predicted)):\n",
    "        rec_rank = reciprocal_rank(predicted[i],relevant[i] ,queries[i][0])\n",
    "        summe += rec_rank\n",
    "        predictions[queries[i][0]]['MRR'] = rec_rank\n",
    "    return summe/len(predicted)\n",
    "\n",
    "def calculateMetrics(predictFunction,queries):\n",
    "    predicted = []\n",
    "    relevant = []\n",
    "    for q in queries:\n",
    "        predicted.append(list(predictFunction(q[0]).keys()))\n",
    "        relevant.append(q[1])\n",
    "    mean_average_p = mean_average_precision(predicted, relevant)\n",
    "    mean_reciprocal_r = mean_reciprocal_rank(predicted, relevant)\n",
    "    return mean_average_p, mean_reciprocal_r"
   ]
  },
  {
   "cell_type": "code",
   "execution_count": 9,
   "metadata": {},
   "outputs": [
    {
     "name": "stdout",
     "output_type": "stream",
     "text": [
      "Word2Vec | MAP: 0.5279918340971889, MRR: 0.5412312887641849, Anfragebearbeitung 0:00:24.402282\n"
     ]
    }
   ],
   "source": [
    "def evaluate():\n",
    "    a = datetime.datetime.now()\n",
    "    mean_av_pr, mean_re_r = calculateMetrics(get_w2v_Prediction,queries)\n",
    "    b = datetime.datetime.now()\n",
    "    print(f'Word2Vec | MAP: {str(mean_av_pr)}, MRR: {str(mean_re_r)}, Anfragebearbeitung {b-a}')\n",
    "evaluate()"
   ]
  },
  {
   "cell_type": "code",
   "execution_count": 10,
   "metadata": {},
   "outputs": [],
   "source": [
    "#AllPredictions laden\n",
    "with open(\"../Data/Visualization/Predictions.json\",encoding='utf-8') as file:\n",
    "    allPredictions = json.load(file)\n",
    "\n",
    "for query, scores in allPredictions.items():\n",
    "    scores['Word2Vec'] = predictions[query]\n",
    "\n",
    "#Predictions abspeichern\n",
    "with open('../Data/Visualization/Predictions.json', 'w',encoding='utf-8') as fp:\n",
    "    json.dump(allPredictions, fp,  indent=4, ensure_ascii=False)"
   ]
  },
  {
   "cell_type": "code",
   "execution_count": null,
   "metadata": {},
   "outputs": [],
   "source": []
  }
 ],
 "metadata": {
  "kernelspec": {
   "display_name": "Python 3 (ipykernel)",
   "language": "python",
   "name": "python3"
  },
  "language_info": {
   "codemirror_mode": {
    "name": "ipython",
    "version": 3
   },
   "file_extension": ".py",
   "mimetype": "text/x-python",
   "name": "python",
   "nbconvert_exporter": "python",
   "pygments_lexer": "ipython3",
   "version": "3.8.11"
  }
 },
 "nbformat": 4,
 "nbformat_minor": 4
}
